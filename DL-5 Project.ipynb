{
 "cells": [
  {
   "cell_type": "markdown",
   "metadata": {},
   "source": [
    "\n",
    "# Image Classification with CIFAR-10 dataset\n",
    "\n",
    "In this project, we'll classify images from the CIFAR-10 dataset\n",
    "(https://www.cs.toronto.edu/~kriz/cifar.html). The dataset consists of airplanes, dogs, cats, and other\n",
    "objects. We'll preprocess the images, then train a convolutional neural network on all the samples.\n",
    "The images need to be normalized and the labels need to be one-hot encoded. We'll build a convolutional, max pooling, dropout, and fully connected layers. At the\n",
    "end, we'll see neural network's predictions on the sample images.\n",
    "\n",
    "\n",
    "### Data\n",
    "CIFAR-10 is an established computer-vision dataset used for object recognition. It is a subset of the 80 million tiny images dataset and consists of 60,000 32x32 color images containing one of 10 object classes, with 6000 images per class. It was collected by Alex Krizhevsky, Vinod Nair, and Geoffrey Hinton.\n",
    "\n",
    "Let's get the data\n"
   ]
  },
  {
   "cell_type": "markdown",
   "metadata": {},
   "source": [
    "## Loading data"
   ]
  },
  {
   "cell_type": "code",
   "execution_count": 3,
   "metadata": {},
   "outputs": [],
   "source": [
    "from urllib.request import urlretrieve\n",
    "from os.path import isfile, isdir\n",
    "from tqdm import tqdm\n",
    "import tarfile\n",
    "\n",
    "cifar10_dataset_folder_path = 'cifar-10-batches-py'\n",
    "\n",
    "class DLProgress(tqdm):\n",
    "    last_block = 0\n",
    "\n",
    "    def hook(self, block_num=1, block_size=1, total_size=None):\n",
    "        self.total = total_size\n",
    "        self.update((block_num - self.last_block) * block_size)\n",
    "        self.last_block = block_num\n",
    "        \n",
    "if not isfile('cifar-10-python.tar.gz'):\n",
    "    with DLProgress(unit='B', unit_scale=True, miniters=1, desc='CIFAR-10 Dataset') as pbar:\n",
    "        urlretrieve(\n",
    "            'https://www.cs.toronto.edu/~kriz/cifar-10-python.tar.gz',\n",
    "            'cifar-10-python.tar.gz',\n",
    "            pbar.hook)\n",
    "\n",
    "if not isdir(cifar10_dataset_folder_path):\n",
    "    with tarfile.open('cifar-10-python.tar.gz') as tar:\n",
    "        tar.extractall()\n",
    "        tar.close()"
   ]
  },
  {
   "cell_type": "markdown",
   "metadata": {},
   "source": [
    "### Exploring Data\n",
    "The dataset is broken into batches to prevent machine from running out of memory. The CIFAR-10 dataset consists of 5 batches, named data_batch_1, data_batch_2, etc.. Each batch contains the labels and images that are one of the following:\n",
    " \n",
    ". airplane\n",
    "\n",
    ". automobile\n",
    "\n",
    ". bird\n",
    "\n",
    ". cat\n",
    "\n",
    ". deer\n",
    "\n",
    ". dog\n",
    "\n",
    ". frog\n",
    "\n",
    ". horse\n",
    "\n",
    ". ship\n",
    "\n",
    ". truck\n",
    "    \n",
    "Understanding a dataset is part of making predictions on the data. We will play around with the code cell below by changing the batch_id and sample_id. The batch_id is the id for a batch (1-5). The sample_id is the id for a image and label pair in the batch.\n",
    "\n",
    "\"What are all possible labels?\", \"What is the range of values for the image data?\", \"Are the labels in order or random?\". Answers to questions like these will help us preprocess the data and end up with better predictions."
   ]
  },
  {
   "cell_type": "code",
   "execution_count": 4,
   "metadata": {},
   "outputs": [],
   "source": [
    "import pickle\n",
    "import numpy as np\n",
    "import matplotlib.pyplot as plt\n",
    "from sklearn.preprocessing import LabelBinarizer\n",
    "\n",
    "\n",
    "def _load_label_names():\n",
    "    \"\"\"\n",
    "    Load the label names from file\n",
    "    \"\"\"\n",
    "    return ['airplane', 'automobile', 'bird', 'cat', 'deer', 'dog', 'frog', 'horse', 'ship', 'truck']\n",
    "\n",
    "\n",
    "def load_cfar10_batch(cifar10_dataset_folder_path, batch_id):\n",
    "    \"\"\"\n",
    "    Load a batch of the dataset\n",
    "    \"\"\"\n",
    "    with open(cifar10_dataset_folder_path + '/data_batch_' + str(batch_id), mode='rb') as file:\n",
    "        batch = pickle.load(file, encoding='latin1')\n",
    "\n",
    "    # total_features*RGB*H*W\n",
    "    features = batch['data'].reshape((len(batch['data']), 3, 32, 32)).transpose(0, 2, 3, 1) #(len, 32, 32, 3)\n",
    "    labels = batch['labels']\n",
    "    \n",
    "#     print(batch['data'])\n",
    "#     print(\"-\"*80)\n",
    "#     print(batch['data'].reshape((len(batch['data']), 3, 32, 32)))\n",
    "#     print(\"-\"*80)\n",
    "#     print(features)\n",
    "#     print(\"-\"*80)\n",
    "#     print(labels)\n",
    "    \n",
    "    return features, labels\n",
    "\n",
    "\n",
    "def display_stats(cifar10_dataset_folder_path, batch_id, sample_id):\n",
    "    \"\"\"\n",
    "    Display Stats of the the dataset\n",
    "    \"\"\"\n",
    "    batch_ids = list(range(1, 6))\n",
    "\n",
    "    if batch_id not in batch_ids:\n",
    "        print('Batch Id out of Range. Possible Batch Ids: {}'.format(batch_ids))\n",
    "        return None\n",
    "\n",
    "    features, labels = load_cfar10_batch(cifar10_dataset_folder_path, batch_id)\n",
    "\n",
    "    if not (0 <= sample_id < len(features)):\n",
    "        print('{} samples in batch {}.  {} is out of range.'.format(len(features), batch_id, sample_id))\n",
    "        return None\n",
    "\n",
    "    print('\\nStats of batch {}:'.format(batch_id))\n",
    "    print('Samples: {}'.format(len(features)))\n",
    "    print('Label Counts: {}'.format(dict(zip(*np.unique(labels, return_counts=True)))))\n",
    "    print('First 20 Labels: {}'.format(labels[:20]))\n",
    "\n",
    "    sample_image = features[sample_id]\n",
    "    sample_label = labels[sample_id]\n",
    "    label_names = _load_label_names()\n",
    "\n",
    "    print('\\nExample of Image {}:'.format(sample_id))\n",
    "    print('Image - Min Value: {} Max Value: {}'.format(sample_image.min(), sample_image.max()))\n",
    "    print('Image - Shape: {}'.format(sample_image.shape))\n",
    "    print('Label - Label Id: {} Name: {}'.format(sample_label, label_names[sample_label]))\n",
    "    plt.axis('off')\n",
    "    plt.imshow(sample_image)\n",
    "\n",
    "\n",
    "def _preprocess_and_save(normalize, one_hot_encode, features, labels, filename):\n",
    "    \"\"\"\n",
    "    Preprocess data and save it to file\n",
    "    \"\"\"\n",
    "    features = normalize(features)\n",
    "    labels = one_hot_encode(labels)\n",
    "\n",
    "    pickle.dump((features, labels), open(filename, 'wb'))\n",
    "\n",
    "\n",
    "def preprocess_and_save_data(cifar10_dataset_folder_path, normalize, one_hot_encode):\n",
    "    \"\"\"\n",
    "    Preprocess Training and Validation Data\n",
    "    \"\"\"\n",
    "    n_batches = 5\n",
    "    valid_features = []\n",
    "    valid_labels = []\n",
    "\n",
    "    for batch_i in range(1, n_batches + 1):\n",
    "        features, labels = load_cfar10_batch(cifar10_dataset_folder_path, batch_i)\n",
    "        validation_count = int(len(features) * 0.1) #10%\n",
    "\n",
    "        # Prprocess and save a batch of training data\n",
    "        _preprocess_and_save(\n",
    "            normalize,\n",
    "            one_hot_encode,\n",
    "            features[:-validation_count],\n",
    "            labels[:-validation_count],\n",
    "            'preprocess_batch_' + str(batch_i) + '.p')\n",
    "\n",
    "        # Use a portion of training batch for validation\n",
    "        valid_features.extend(features[-validation_count:])\n",
    "        valid_labels.extend(labels[-validation_count:])\n",
    "\n",
    "    # Preprocess and Save all validation data\n",
    "    _preprocess_and_save(\n",
    "        normalize,\n",
    "        one_hot_encode,\n",
    "        np.array(valid_features),\n",
    "        np.array(valid_labels),\n",
    "        'preprocess_validation.p')\n",
    "\n",
    "    with open(cifar10_dataset_folder_path + '/test_batch', mode='rb') as file:\n",
    "        batch = pickle.load(file, encoding='latin1')\n",
    "\n",
    "    # load the test data\n",
    "    test_features = batch['data'].reshape((len(batch['data']), 3, 32, 32)).transpose(0, 2, 3, 1)\n",
    "    test_labels = batch['labels']\n",
    "\n",
    "    # Preprocess and Save all test data\n",
    "    _preprocess_and_save(\n",
    "        normalize,\n",
    "        one_hot_encode,\n",
    "        np.array(test_features),\n",
    "        np.array(test_labels),\n",
    "        'preprocess_testing.p')\n",
    "\n",
    "\n",
    "def batch_features_labels(features, labels, batch_size):\n",
    "    \"\"\"\n",
    "    Split features and labels into batches\n",
    "    \"\"\"\n",
    "    for start in range(0, len(features), batch_size):\n",
    "        end = min(start + batch_size, len(features))\n",
    "        yield features[start:end], labels[start:end]\n",
    "\n",
    "\n",
    "def load_preprocess_training_batch(batch_id, batch_size):\n",
    "    \"\"\"\n",
    "    Load the Preprocessed Training data and return them in batches of <batch_size> or less\n",
    "    \"\"\"\n",
    "    filename = 'preprocess_batch_' + str(batch_id) + '.p'\n",
    "    features, labels = pickle.load(open(filename, mode='rb'))\n",
    "\n",
    "    # Return the training data in batches of size <batch_size> or less\n",
    "    return batch_features_labels(features, labels, batch_size)\n",
    "\n",
    "\n",
    "def display_image_predictions(features, labels, predictions):\n",
    "    n_classes = 10\n",
    "    label_names = _load_label_names()\n",
    "    label_binarizer = LabelBinarizer()\n",
    "    label_binarizer.fit(range(n_classes))\n",
    "    label_ids = label_binarizer.inverse_transform(np.array(labels))\n",
    "\n",
    "    fig, axies = plt.subplots(nrows=4, ncols=2)\n",
    "    fig.tight_layout()\n",
    "    fig.suptitle('Softmax Predictions', fontsize=20, y=1.1)\n",
    "\n",
    "    n_predictions = 5\n",
    "    margin = 0.05\n",
    "    ind = np.arange(n_predictions)\n",
    "    width = (1. - 2. * margin) / n_predictions\n",
    "\n",
    "    for image_i, (feature, label_id, pred_indicies, pred_values) in enumerate(zip(features, label_ids, predictions.indices, predictions.values)):\n",
    "        pred_names = [label_names[pred_i] for pred_i in pred_indicies]\n",
    "        correct_name = label_names[label_id]\n",
    "\n",
    "        axies[image_i][0].imshow(feature*255)\n",
    "        axies[image_i][0].set_title(correct_name)\n",
    "        axies[image_i][0].set_axis_off()\n",
    "\n",
    "        axies[image_i][1].barh(ind + margin, pred_values[::-1], width)\n",
    "        axies[image_i][1].set_yticks(ind + margin)\n",
    "        axies[image_i][1].set_yticklabels(pred_names[::-1])\n",
    "        axies[image_i][1].set_xticks([0, 0.5, 1.0])"
   ]
  },
  {
   "cell_type": "code",
   "execution_count": 4,
   "metadata": {},
   "outputs": [
    {
     "name": "stdout",
     "output_type": "stream",
     "text": [
      "\n",
      "Stats of batch 1:\n",
      "Samples: 10000\n",
      "Label Counts: {0: 1005, 1: 974, 2: 1032, 3: 1016, 4: 999, 5: 937, 6: 1030, 7: 1001, 8: 1025, 9: 981}\n",
      "First 20 Labels: [6, 9, 9, 4, 1, 1, 2, 7, 8, 3, 4, 7, 7, 2, 9, 9, 9, 3, 2, 6]\n",
      "\n",
      "Example of Image 0:\n",
      "Image - Min Value: 0 Max Value: 255\n",
      "Image - Shape: (32, 32, 3)\n",
      "Label - Label Id: 6 Name: frog\n"
     ]
    },
    {
     "data": {
      "image/png": "[encoded data removed]",
      "text/plain": [
       "<Figure size 432x288 with 1 Axes>"
      ]
     },
     "metadata": {
      "image/png": {
       "height": 248,
       "width": 251
      },
      "needs_background": "light"
     },
     "output_type": "display_data"
    },
    {
     "name": "stdout",
     "output_type": "stream",
     "text": [
      "\n",
      "Stats of batch 1:\n",
      "Samples: 10000\n",
      "Label Counts: {0: 1005, 1: 974, 2: 1032, 3: 1016, 4: 999, 5: 937, 6: 1030, 7: 1001, 8: 1025, 9: 981}\n",
      "First 20 Labels: [6, 9, 9, 4, 1, 1, 2, 7, 8, 3, 4, 7, 7, 2, 9, 9, 9, 3, 2, 6]\n",
      "\n",
      "Example of Image 1:\n",
      "Image - Min Value: 5 Max Value: 254\n",
      "Image - Shape: (32, 32, 3)\n",
      "Label - Label Id: 9 Name: truck\n"
     ]
    },
    {
     "data": {
      "image/png": "[encoded data removed]",
      "text/plain": [
       "<Figure size 432x288 with 1 Axes>"
      ]
     },
     "metadata": {
      "image/png": {
       "height": 248,
       "width": 251
      },
      "needs_background": "light"
     },
     "output_type": "display_data"
    },
    {
     "name": "stdout",
     "output_type": "stream",
     "text": [
      "\n",
      "Stats of batch 2:\n",
      "Samples: 10000\n",
      "Label Counts: {0: 984, 1: 1007, 2: 1010, 3: 995, 4: 1010, 5: 988, 6: 1008, 7: 1026, 8: 987, 9: 985}\n",
      "First 20 Labels: [1, 6, 6, 8, 8, 3, 4, 6, 0, 6, 0, 3, 6, 6, 5, 4, 8, 3, 2, 6]\n",
      "\n",
      "Example of Image 0:\n",
      "Image - Min Value: 5 Max Value: 225\n",
      "Image - Shape: (32, 32, 3)\n",
      "Label - Label Id: 1 Name: automobile\n"
     ]
    },
    {
     "data": {
      "image/png": "[encoded data removed]",
      "text/plain": [
       "<Figure size 432x288 with 1 Axes>"
      ]
     },
     "metadata": {
      "image/png": {
       "height": 248,
       "width": 251
      },
      "needs_background": "light"
     },
     "output_type": "display_data"
    },
    {
     "name": "stdout",
     "output_type": "stream",
     "text": [
      "\n",
      "Stats of batch 2:\n",
      "Samples: 10000\n",
      "Label Counts: {0: 984, 1: 1007, 2: 1010, 3: 995, 4: 1010, 5: 988, 6: 1008, 7: 1026, 8: 987, 9: 985}\n",
      "First 20 Labels: [1, 6, 6, 8, 8, 3, 4, 6, 0, 6, 0, 3, 6, 6, 5, 4, 8, 3, 2, 6]\n",
      "\n",
      "Example of Image 1:\n",
      "Image - Min Value: 2 Max Value: 247\n",
      "Image - Shape: (32, 32, 3)\n",
      "Label - Label Id: 6 Name: frog\n"
     ]
    },
    {
     "data": {
      "image/png": "[encoded data removed]",
      "text/plain": [
       "<Figure size 432x288 with 1 Axes>"
      ]
     },
     "metadata": {
      "image/png": {
       "height": 248,
       "width": 251
      },
      "needs_background": "light"
     },
     "output_type": "display_data"
    },
    {
     "name": "stdout",
     "output_type": "stream",
     "text": [
      "\n",
      "Stats of batch 3:\n",
      "Samples: 10000\n",
      "Label Counts: {0: 994, 1: 1042, 2: 965, 3: 997, 4: 990, 5: 1029, 6: 978, 7: 1015, 8: 961, 9: 1029}\n",
      "First 20 Labels: [8, 5, 0, 6, 9, 2, 8, 3, 6, 2, 7, 4, 6, 9, 0, 0, 7, 3, 7, 2]\n",
      "\n",
      "Example of Image 0:\n",
      "Image - Min Value: 0 Max Value: 254\n",
      "Image - Shape: (32, 32, 3)\n",
      "Label - Label Id: 8 Name: ship\n"
     ]
    },
    {
     "data": {
      "image/png": "[encoded data removed]",
      "text/plain": [
       "<Figure size 432x288 with 1 Axes>"
      ]
     },
     "metadata": {
      "image/png": {
       "height": 248,
       "width": 251
      },
      "needs_background": "light"
     },
     "output_type": "display_data"
    },
    {
     "name": "stdout",
     "output_type": "stream",
     "text": [
      "\n",
      "Stats of batch 3:\n",
      "Samples: 10000\n",
      "Label Counts: {0: 994, 1: 1042, 2: 965, 3: 997, 4: 990, 5: 1029, 6: 978, 7: 1015, 8: 961, 9: 1029}\n",
      "First 20 Labels: [8, 5, 0, 6, 9, 2, 8, 3, 6, 2, 7, 4, 6, 9, 0, 0, 7, 3, 7, 2]\n",
      "\n",
      "Example of Image 1:\n",
      "Image - Min Value: 15 Max Value: 249\n",
      "Image - Shape: (32, 32, 3)\n",
      "Label - Label Id: 5 Name: dog\n"
     ]
    },
    {
     "data": {
      "image/png": "[encoded data removed]",
      "text/plain": [
       "<Figure size 432x288 with 1 Axes>"
      ]
     },
     "metadata": {
      "image/png": {
       "height": 248,
       "width": 251
      },
      "needs_background": "light"
     },
     "output_type": "display_data"
    },
    {
     "name": "stdout",
     "output_type": "stream",
     "text": [
      "\n",
      "Stats of batch 4:\n",
      "Samples: 10000\n",
      "Label Counts: {0: 1003, 1: 963, 2: 1041, 3: 976, 4: 1004, 5: 1021, 6: 1004, 7: 981, 8: 1024, 9: 983}\n",
      "First 20 Labels: [0, 6, 0, 2, 7, 2, 1, 2, 4, 1, 5, 6, 6, 3, 1, 3, 5, 5, 8, 1]\n",
      "\n",
      "Example of Image 0:\n",
      "Image - Min Value: 34 Max Value: 203\n",
      "Image - Shape: (32, 32, 3)\n",
      "Label - Label Id: 0 Name: airplane\n"
     ]
    },
    {
     "data": {
      "image/png": "[encoded data removed]",
      "text/plain": [
       "<Figure size 432x288 with 1 Axes>"
      ]
     },
     "metadata": {
      "image/png": {
       "height": 248,
       "width": 251
      },
      "needs_background": "light"
     },
     "output_type": "display_data"
    },
    {
     "name": "stdout",
     "output_type": "stream",
     "text": [
      "\n",
      "Stats of batch 4:\n",
      "Samples: 10000\n",
      "Label Counts: {0: 1003, 1: 963, 2: 1041, 3: 976, 4: 1004, 5: 1021, 6: 1004, 7: 981, 8: 1024, 9: 983}\n",
      "First 20 Labels: [0, 6, 0, 2, 7, 2, 1, 2, 4, 1, 5, 6, 6, 3, 1, 3, 5, 5, 8, 1]\n",
      "\n",
      "Example of Image 1:\n",
      "Image - Min Value: 0 Max Value: 246\n",
      "Image - Shape: (32, 32, 3)\n",
      "Label - Label Id: 6 Name: frog\n"
     ]
    },
    {
     "data": {
      "image/png": "[encoded data removed]",
      "text/plain": [
       "<Figure size 432x288 with 1 Axes>"
      ]
     },
     "metadata": {
      "image/png": {
       "height": 248,
       "width": 251
      },
      "needs_background": "light"
     },
     "output_type": "display_data"
    },
    {
     "name": "stdout",
     "output_type": "stream",
     "text": [
      "\n",
      "Stats of batch 5:\n",
      "Samples: 10000\n",
      "Label Counts: {0: 1014, 1: 1014, 2: 952, 3: 1016, 4: 997, 5: 1025, 6: 980, 7: 977, 8: 1003, 9: 1022}\n",
      "First 20 Labels: [1, 8, 5, 1, 5, 7, 4, 3, 8, 2, 7, 2, 0, 1, 5, 9, 6, 2, 0, 8]\n",
      "\n",
      "Example of Image 0:\n",
      "Image - Min Value: 2 Max Value: 255\n",
      "Image - Shape: (32, 32, 3)\n",
      "Label - Label Id: 1 Name: automobile\n"
     ]
    },
    {
     "data": {
      "image/png": "[encoded data removed]",
      "text/plain": [
       "<Figure size 432x288 with 1 Axes>"
      ]
     },
     "metadata": {
      "image/png": {
       "height": 248,
       "width": 251
      },
      "needs_background": "light"
     },
     "output_type": "display_data"
    },
    {
     "name": "stdout",
     "output_type": "stream",
     "text": [
      "\n",
      "Stats of batch 5:\n",
      "Samples: 10000\n",
      "Label Counts: {0: 1014, 1: 1014, 2: 952, 3: 1016, 4: 997, 5: 1025, 6: 980, 7: 977, 8: 1003, 9: 1022}\n",
      "First 20 Labels: [1, 8, 5, 1, 5, 7, 4, 3, 8, 2, 7, 2, 0, 1, 5, 9, 6, 2, 0, 8]\n",
      "\n",
      "Example of Image 1:\n",
      "Image - Min Value: 1 Max Value: 244\n",
      "Image - Shape: (32, 32, 3)\n",
      "Label - Label Id: 8 Name: ship\n"
     ]
    },
    {
     "data": {
      "image/png": "[encoded data removed]",
      "text/plain": [
       "<Figure size 432x288 with 1 Axes>"
      ]
     },
     "metadata": {
      "image/png": {
       "height": 248,
       "width": 251
      },
      "needs_background": "light"
     },
     "output_type": "display_data"
    }
   ],
   "source": [
    "%matplotlib inline\n",
    "%config InlineBackend.figure_format = 'retina'\n",
    "\n",
    "import numpy as np\n",
    "\n",
    "for batch_id in range(1,6):\n",
    "    features, labels = load_cfar10_batch(cifar10_dataset_folder_path, batch_id)\n",
    "    for image_id in range(0,2):\n",
    "        display_stats(features, labels, image_id)\n",
    "\n",
    "del features, labels # free memory"
   ]
  },
  {
   "cell_type": "markdown",
   "metadata": {},
   "source": [
    "### Implementing Preprocess Functions\n",
    "#### Normalize\n",
    "In the cell below, implement the normalize function to take in image data, x, and return it as a normalized Numpy array. The values should be in the range of 0 to 1, inclusive. The return object should be the same shape as x."
   ]
  },
  {
   "cell_type": "code",
   "execution_count": 5,
   "metadata": {},
   "outputs": [],
   "source": [
    "def normalize(x):\n",
    "    \"\"\"\n",
    "    Normalize a list of sample image data in the range of 0 to 1\n",
    "    : x: List of image data.  The image shape is (32, 32, 3)\n",
    "    : return: Numpy array of normalize data\n",
    "    \"\"\"\n",
    "    x = np.array(x)\n",
    "    x_max = np.max(x)\n",
    "    x_min = np.min(x)\n",
    "    output = (x - x_min)/(x_max - x_min)\n",
    "    return output"
   ]
  },
  {
   "cell_type": "markdown",
   "metadata": {},
   "source": [
    "### One-hot encode\n",
    "We'll implement the one_hot_encode function. The input, x, are a list of labels. Implement the function to return the list of labels as One-Hot encoded Numpy array. The possible values for labels are 0 to 9. The one-hot encoding function should return the same encoding for each value between each call to one_hot_encode. Make sure to save the map of encodings outside the function."
   ]
  },
  {
   "cell_type": "code",
   "execution_count": 6,
   "metadata": {},
   "outputs": [],
   "source": [
    "from sklearn import preprocessing\n",
    "lb = preprocessing.LabelBinarizer()\n",
    "lb.fit(range(10))\n",
    "\n",
    "\n",
    "def one_hot_encode(x):\n",
    "    \"\"\"\n",
    "    One hot encode a list of sample labels. Return a one-hot encoded vector for each label.\n",
    "    : x: List of sample Labels\n",
    "    : return: Numpy array of one-hot encoded labels\n",
    "    \"\"\"\n",
    "    #print(lb.transform(x))\n",
    "    return lb.transform(x) #0-9"
   ]
  },
  {
   "cell_type": "markdown",
   "metadata": {},
   "source": [
    "### Randomize Data\n",
    "As you saw from exploring the data above, the order of the samples are randomized. It doesn't hurt to randomize it again, but you don't need to for this dataset.\n",
    "\n",
    "### Preprocesing all the data and saving it\n",
    "Running the code cell below will preprocess all the CIFAR-10 data and save it to file. The code below also uses 10% of the training data for validation."
   ]
  },
  {
   "cell_type": "code",
   "execution_count": 8,
   "metadata": {},
   "outputs": [],
   "source": [
    "### Process data and save to local\n",
    "\n",
    "preprocess_and_save_data(cifar10_dataset_folder_path, normalize, one_hot_encode)\n",
    "#valid_features, valid_labels = pickle.load(open('/Users/kamalesh_das/Desktop/Python/AcadGild/ImageClassification/preprocess_validation.p', mode='rb'))"
   ]
  },
  {
   "cell_type": "code",
   "execution_count": 9,
   "metadata": {},
   "outputs": [],
   "source": [
    "valid_features, valid_labels = pickle.load(open('preprocess_validation.p', mode='rb'))"
   ]
  },
  {
   "cell_type": "code",
   "execution_count": 10,
   "metadata": {},
   "outputs": [
    {
     "data": {
      "text/plain": [
       "(array([[[0.54901961, 0.49019608, 0.45098039],\n",
       "         [0.57254902, 0.50980392, 0.47843137],\n",
       "         [0.56078431, 0.49803922, 0.47843137],\n",
       "         ...,\n",
       "         [0.66666667, 0.56862745, 0.51372549],\n",
       "         [0.69019608, 0.58823529, 0.5254902 ],\n",
       "         [0.66666667, 0.57647059, 0.52156863]],\n",
       " \n",
       "        [[0.4745098 , 0.42352941, 0.50588235],\n",
       "         [0.50980392, 0.4627451 , 0.54509804],\n",
       "         [0.5254902 , 0.4745098 , 0.56078431],\n",
       "         ...,\n",
       "         [0.63921569, 0.55294118, 0.61568627],\n",
       "         [0.66666667, 0.57254902, 0.63137255],\n",
       "         [0.66666667, 0.58039216, 0.63137255]],\n",
       " \n",
       "        [[0.59607843, 0.54509804, 0.68235294],\n",
       "         [0.61568627, 0.56862745, 0.70196078],\n",
       "         [0.60784314, 0.56078431, 0.68627451],\n",
       "         ...,\n",
       "         [0.69411765, 0.60392157, 0.75686275],\n",
       "         [0.70980392, 0.61176471, 0.76078431],\n",
       "         [0.71764706, 0.62745098, 0.76078431]],\n",
       " \n",
       "        ...,\n",
       " \n",
       "        [[0.49019608, 0.43137255, 0.4       ],\n",
       "         [0.50588235, 0.43921569, 0.40392157],\n",
       "         [0.29803922, 0.2627451 , 0.18431373],\n",
       "         ...,\n",
       "         [0.65882353, 0.5372549 , 0.47058824],\n",
       "         [0.61960784, 0.49411765, 0.40392157],\n",
       "         [0.57254902, 0.45490196, 0.34117647]],\n",
       " \n",
       "        [[0.33333333, 0.30196078, 0.2745098 ],\n",
       "         [0.36862745, 0.31764706, 0.27843137],\n",
       "         [0.29019608, 0.25490196, 0.17647059],\n",
       "         ...,\n",
       "         [0.63529412, 0.51764706, 0.41568627],\n",
       "         [0.65098039, 0.5254902 , 0.39215686],\n",
       "         [0.61960784, 0.50196078, 0.36078431]],\n",
       " \n",
       "        [[0.49019608, 0.43921569, 0.43529412],\n",
       "         [0.50980392, 0.44313725, 0.43529412],\n",
       "         [0.41176471, 0.35686275, 0.29411765],\n",
       "         ...,\n",
       "         [0.51764706, 0.41568627, 0.30588235],\n",
       "         [0.50980392, 0.39607843, 0.25098039],\n",
       "         [0.55686275, 0.45098039, 0.30588235]]]),\n",
       " array([0, 0, 0, 0, 1, 0, 0, 0, 0, 0]))"
      ]
     },
     "execution_count": 10,
     "metadata": {},
     "output_type": "execute_result"
    }
   ],
   "source": [
    "valid_features[0], valid_labels[0]"
   ]
  },
  {
   "cell_type": "markdown",
   "metadata": {},
   "source": [
    "## Build the network\n",
    "### Input\n",
    "The neural network needs to read the image data, one-hot encoded labels, and dropout keep probability. Implement the following functions\n",
    "\n",
    "    Implement neural_net_image_input\n",
    "        Return a TF Placeholder \n",
    "        Set the shape using image_shape with batch size set to None.\n",
    "        Name the TensorFlow placeholder \"x\" using the TensorFlow name parameter in the TF Placeholder.\n",
    "    Implement neural_net_label_input\n",
    "        Return a TF Placeholder \n",
    "        Set the shape using n_classes with batch size set to None.\n",
    "        Name the TensorFlow placeholder \"y\" using the TensorFlow name parameter in the TF Placeholder.\n",
    "    Implement neural_net_keep_prob_input\n",
    "        Return a TF Placeholder for dropout keep probability.\n",
    "        Name the TensorFlow placeholder \"keep_prob\" using the TensorFlow name parameter in the TF Placeholder.\n",
    "        \n",
    "These names will be used at the end of the project to load your saved model.\n",
    "\n",
    "Note: None for shapes in TensorFlow allow for a dynamic size."
   ]
  },
  {
   "cell_type": "code",
   "execution_count": 11,
   "metadata": {},
   "outputs": [],
   "source": [
    "import tensorflow as tf\n",
    "\n",
    "def neural_net_image_input(image_shape):\n",
    "    \"\"\"\n",
    "    Return a Tensor for a bach of image input\n",
    "    : image_shape: Shape of the images\n",
    "    : return: Tensor for image input.\n",
    "    \"\"\"\n",
    "    return tf.placeholder(tf.float32, shape = (None, image_shape[0], image_shape[1], image_shape[2]), name = 'x')\n",
    "\n",
    "\n",
    "def neural_net_label_input(n_classes):\n",
    "    \"\"\"\n",
    "    Return a Tensor for a batch of label input\n",
    "    : n_classes: Number of classes\n",
    "    : return: Tensor for label input.\n",
    "    \"\"\"\n",
    "    return tf.placeholder(tf.float32, shape = (None, n_classes), name = 'y')\n",
    "\n",
    "\n",
    "def neural_net_keep_prob_input():\n",
    "    \"\"\"\n",
    "    Return a Tensor for keep probability\n",
    "    : return: Tensor for keep probability.\n",
    "    \"\"\"\n",
    "    return tf.placeholder(tf.float32, shape = (None), name = 'keep_prob')\n",
    "\n",
    "\n",
    "tf.reset_default_graph()"
   ]
  },
  {
   "cell_type": "markdown",
   "metadata": {},
   "source": [
    "## Convolution and Max Pooling Layer\n",
    "\n",
    "Convolution layers have a lot of success with images. For this code cell, you should implement the function conv2d_maxpool to apply convolution then max pooling:\n",
    "   \n",
    "    Create the weight and bias using conv_ksize, conv_num_outputs and the shape of x_tensor.\n",
    "    Apply a convolution to x_tensor using weight and conv_strides.\n",
    "        We recommend you use same padding, but you're welcome to use any padding.\n",
    "    Add bias\n",
    "    Add a nonlinear activation to the convolution.\n",
    "    Apply Max Pooling using pool_ksize and pool_strides.\n",
    "        We recommend you use same padding, but you're welcome to use any padding."
   ]
  },
  {
   "cell_type": "code",
   "execution_count": 12,
   "metadata": {},
   "outputs": [],
   "source": [
    "def conv2d_maxpool(x_tensor, conv_num_outputs, conv_ksize, conv_strides, pool_ksize, pool_strides):\n",
    "    \"\"\"\n",
    "    Apply convolution then max pooling to x_tensor\n",
    "    :param x_tensor: TensorFlow Tensor\n",
    "    :param conv_num_outputs: Number of outputs for the convolutional layer\n",
    "    :param conv_strides: Stride 2-D Tuple for convolution\n",
    "    :param pool_ksize: kernal size 2-D Tuple for pool\n",
    "    :param pool_strides: Stride 2-D Tuple for pool\n",
    "    : return: A tensor that represents convolution and max pooling of x_tensor\n",
    "    \"\"\"\n",
    "    shape_of_x_tensor = x_tensor.get_shape().as_list()\n",
    "    F_W = tf.Variable(tf.truncated_normal([conv_ksize[0] ,conv_ksize[1] ,shape_of_x_tensor[-1] ,conv_num_outputs] \n",
    "                                          ,dtype=tf.float32, stddev=0.2))\n",
    "    F_b = tf.Variable(tf.zeros([conv_num_outputs]  ,dtype=tf.float32))\n",
    "    \n",
    "    strides_conv = [1, conv_strides[0], conv_strides[1], 1]\n",
    "    padding = 'SAME'\n",
    "    \n",
    "    output = tf.nn.conv2d(x_tensor, F_W, strides_conv, padding)\n",
    "    output = tf.nn.bias_add(output, F_b)\n",
    "    \n",
    "    output = tf.nn.relu(output)\n",
    "    \n",
    "\n",
    "    ksize_maxpool = [1, pool_ksize[0], pool_ksize[1], 1]\n",
    "    strides_maxpool = [1, pool_strides[0], pool_strides[1], 1]\n",
    "    output = tf.nn.max_pool(output, ksize_maxpool, strides_maxpool, padding)\n",
    "    \n",
    "    return output"
   ]
  },
  {
   "cell_type": "markdown",
   "metadata": {},
   "source": [
    "### Flatten Layer\n",
    "Implement the flatten function to change the dimension of x_tensor from a 4-D tensor to a 2-D tensor. The output should be the shape (Batch Size, Flattened Image Size). You can use TensorFlow Layers or TensorFlow Layers (contrib) for this layer."
   ]
  },
  {
   "cell_type": "code",
   "execution_count": 13,
   "metadata": {},
   "outputs": [],
   "source": [
    "\n",
    "def flatten(x_tensor):\n",
    "    \"\"\"\n",
    "    Flatten x_tensor to (Batch Size, Flattened Image Size)\n",
    "    : x_tensor: A tensor of size (Batch Size, ...), where ... are the image dimensions.\n",
    "    : return: A tensor of size (Batch Size, Flattened Image Size).\n",
    "    \"\"\"\n",
    "    # TODO: Implement Function\n",
    "    shape = x_tensor.get_shape().as_list()\n",
    "    flat_dim = shape[1]*shape[2]*shape[3]\n",
    "    output = tf.reshape(x_tensor, [-1, flat_dim])\n",
    "    return output"
   ]
  },
  {
   "cell_type": "markdown",
   "metadata": {},
   "source": [
    "## Fully-Connected Layer\n",
    "Implement the fully_conn function to apply a fully connected layer to x_tensor with the shape (Batch Size, num_outputs). You can use TensorFlow Layers or TensorFlow Layers (contrib) for this layer."
   ]
  },
  {
   "cell_type": "code",
   "execution_count": 14,
   "metadata": {},
   "outputs": [],
   "source": [
    "def fully_conn(x_tensor, num_outputs):\n",
    "    \"\"\"\n",
    "    Apply a fully connected layer to x_tensor using weight and bias\n",
    "    : x_tensor: A 2-D tensor where the first dimension is batch size.\n",
    "    : num_outputs: The number of output that the new tensor should be.\n",
    "    : return: A 2-D tensor where the second dimension is num_outputs.\n",
    "    \"\"\"\n",
    "    # TODO: Implement Function\n",
    "    shape = x_tensor.get_shape().as_list()\n",
    "    weights= tf.Variable(tf.truncated_normal([shape[1], num_outputs] ,dtype=tf.float32, stddev=0.2))\n",
    "    biases = tf.Variable(tf.zeros([num_outputs]  ,dtype=tf.float32))\n",
    "    \n",
    "    out = tf.add(tf.matmul(x_tensor, weights), biases)\n",
    "    out = tf.nn.relu(out)\n",
    "    return out"
   ]
  },
  {
   "cell_type": "markdown",
   "metadata": {},
   "source": [
    "## Output Layer\n",
    "Implement the output function to apply a fully connected layer to x_tensor with the shape (Batch Size, num_outputs). You can use TensorFlow Layers or TensorFlow Layers (contrib) for this layer.\n",
    "Note: Activation, softmax, or cross entropy shouldn't be applied to this."
   ]
  },
  {
   "cell_type": "code",
   "execution_count": 15,
   "metadata": {},
   "outputs": [],
   "source": [
    "def output(x_tensor, num_outputs):\n",
    "    \"\"\"\n",
    "    Apply a output layer to x_tensor using weight and bias\n",
    "    : x_tensor: A 2-D tensor where the first dimension is batch size.\n",
    "    : num_outputs: The number of output that the new tensor should be.\n",
    "    : return: A 2-D tensor where the second dimension is num_outputs.\n",
    "    \"\"\"\n",
    "    shape = x_tensor.get_shape().as_list()\n",
    "    weights= tf.Variable(tf.truncated_normal([shape[1], num_outputs] ,dtype=tf.float32, stddev=0.2))\n",
    "    biases = tf.Variable(tf.zeros([num_outputs]  ,dtype=tf.float32))\n",
    "    out = tf.add(tf.matmul(x_tensor, weights), biases)\n",
    "    return out"
   ]
  },
  {
   "cell_type": "markdown",
   "metadata": {},
   "source": [
    "## Create Convolutional Model\n",
    "Implement the function conv_net to create a convolutional neural network model. The function takes in a batch of images, x, and outputs logits. Use the layers you created above to create this model:\n",
    "\n",
    "    Apply 1, 2, or 3 Convolution and Max Pool layers\n",
    "    Apply a Flatten Layer\n",
    "    Apply 1, 2, or 3 Fully Connected Layers\n",
    "    Apply an Output Layer\n",
    "    Return the output\n",
    "    Apply TensorFlow's Dropout to one or more layers in the model using keep_prob. "
   ]
  },
  {
   "cell_type": "code",
   "execution_count": 16,
   "metadata": {},
   "outputs": [],
   "source": [
    "def conv_net(x, keep_prob):\n",
    "    \"\"\"\n",
    "    Create a convolutional neural network model\n",
    "    : x: Placeholder tensor that holds image data.\n",
    "    : keep_prob: Placeholder tensor that hold dropout keep probability.\n",
    "    : return: Tensor that represents logits\n",
    "    \"\"\"\n",
    "\n",
    "    out = conv2d_maxpool(x, conv_num_outputs = 16, conv_ksize = (3,3), conv_strides = (1,1), pool_ksize=(2,2), pool_strides=(2,2))\n",
    "    out = conv2d_maxpool(out, conv_num_outputs = 32, conv_ksize = (3,3), conv_strides = (1,1), pool_ksize=(2,2), pool_strides=(2,2))\n",
    "    out = conv2d_maxpool(out, conv_num_outputs = 64, conv_ksize = (3,3), conv_strides = (1,1), pool_ksize=(2,2), pool_strides=(2,2))\n",
    "\n",
    "    # Function Definition from Above:\n",
    "    out = flatten(out)\n",
    "    \n",
    "    \n",
    "\n",
    "    out = fully_conn(out, num_outputs = 64)\n",
    "    out = tf.nn.dropout(out, keep_prob)\n",
    "    out = fully_conn(out, num_outputs = 32)\n",
    "    out = tf.nn.dropout(out, keep_prob)\n",
    "    out = fully_conn(out, num_outputs = 16)\n",
    "    #    Set this to the number of classes\n",
    "    # Function Definition from Above:\n",
    "    out = output(out, num_outputs = 10)\n",
    "\n",
    "    return out\n",
    "\n",
    "\n",
    "##############################\n",
    "## Build the Neural Network ##\n",
    "##############################\n",
    "\n",
    "# Remove previous weights, bias, inputs, etc..\n",
    "tf.reset_default_graph()\n",
    "\n",
    "# Inputs\n",
    "x = neural_net_image_input((32, 32, 3))\n",
    "y = neural_net_label_input(10)\n",
    "keep_prob = neural_net_keep_prob_input()\n",
    "\n",
    "# Model\n",
    "logits = conv_net(x, keep_prob)\n",
    "\n",
    "# Name logits Tensor, so that is can be loaded from disk after training\n",
    "logits = tf.identity(logits, name='logits')\n",
    "\n",
    "# Loss and Optimizer\n",
    "cost = tf.reduce_mean(tf.nn.softmax_cross_entropy_with_logits_v2(logits=logits, labels=y))\n",
    "optimizer = tf.train.AdamOptimizer().minimize(cost)\n",
    "\n",
    "# Accuracy\n",
    "correct_pred = tf.equal(tf.argmax(logits, 1), tf.argmax(y, 1))\n",
    "accuracy = tf.reduce_mean(tf.cast(correct_pred, tf.float32), name='accuracy')"
   ]
  },
  {
   "cell_type": "markdown",
   "metadata": {},
   "source": [
    "## Train the Neural Network\n",
    "### Single Optimization\n",
    "\n",
    "Implement the function train_neural_network to do a single optimization. The optimization should use optimizer to optimize in session with a feed_dict of the following:\n",
    "   \n",
    "    x for image input\n",
    "    y for labels\n",
    "    keep_prob for keep probability for dropout\n",
    "\n",
    "This function will be called for each batch, so tf.global_variables_initializer() has already been called.\n",
    "\n",
    "Note: Nothing needs to be returned. This function is only optimizing the neural network."
   ]
  },
  {
   "cell_type": "code",
   "execution_count": 17,
   "metadata": {},
   "outputs": [],
   "source": [
    "def train_neural_network(session, optimizer, keep_probability, feature_batch, label_batch):\n",
    "    \"\"\"\n",
    "    Optimize the session on a batch of images and labels\n",
    "    : session: Current TensorFlow session\n",
    "    : optimizer: TensorFlow optimizer function\n",
    "    : keep_probability: keep probability\n",
    "    : feature_batch: Batch of Numpy image data\n",
    "    : label_batch: Batch of Numpy label data\n",
    "    \"\"\"\n",
    "    session.run(optimizer, feed_dict={x:feature_batch, y:label_batch,keep_prob:keep_probability})"
   ]
  },
  {
   "cell_type": "markdown",
   "metadata": {},
   "source": [
    "## Show Stats\n",
    "Implement the function print_stats to print loss and validation accuracy. Use the global variables valid_features and valid_labels to calculate validation accuracy. Use a keep probability of 1.0 to calculate the loss and validation accuracy."
   ]
  },
  {
   "cell_type": "code",
   "execution_count": 18,
   "metadata": {},
   "outputs": [],
   "source": [
    "def print_stats(session, feature_batch, label_batch, cost, accuracy):\n",
    "    \"\"\"\n",
    "    Print information about loss and validation accuracy\n",
    "    : session: Current TensorFlow session\n",
    "    : feature_batch: Batch of Numpy image data\n",
    "    : label_batch: Batch of Numpy label data\n",
    "    : cost: TensorFlow cost function\n",
    "    : accuracy: TensorFlow accuracy function\n",
    "    \"\"\"\n",
    "    valid_acc = sess.run(accuracy, feed_dict={\n",
    "                x: valid_features,\n",
    "                y: valid_labels,\n",
    "                keep_prob: 1.})\n",
    "    train_acc = sess.run(accuracy, feed_dict={\n",
    "                x: feature_batch,\n",
    "                y: label_batch,\n",
    "                keep_prob: 1.})\n",
    "    train_cost = sess.run(cost, feed_dict={\n",
    "                x: feature_batch,\n",
    "                y: label_batch,\n",
    "                keep_prob: 1.})\n",
    "    print('Cost {::>8.5f}, Accuracy on Training {:.4f} -'\n",
    "                  'Validation Accuracy: {:.4f}'.format(\n",
    "                train_cost,\n",
    "                train_acc,\n",
    "                valid_acc))"
   ]
  },
  {
   "cell_type": "markdown",
   "metadata": {},
   "source": [
    "## Hyperparameters\n",
    "\n",
    "Tune the following parameters:\n",
    "\n",
    "    Set epochs to the number of iterations until the network stops learning or start overfitting\n",
    "    Set batch_size to the highest number that your machine has memory for. Most people set them to common sizes of memory:\n",
    "        64\n",
    "        128\n",
    "        256\n",
    "        \n",
    "Set keep_probability to the probability of keeping a node using dropout"
   ]
  },
  {
   "cell_type": "code",
   "execution_count": 19,
   "metadata": {},
   "outputs": [],
   "source": [
    "epochs = 50\n",
    "batch_size = 256\n",
    "keep_probability = 0.6"
   ]
  },
  {
   "cell_type": "markdown",
   "metadata": {},
   "source": [
    "### Train on a Single CIFAR-10 Batch\n",
    "Instead of training the neural network on all the CIFAR-10 batches of data, let's use a single batch. This should save time while you iterate on the model to get a better accuracy. Once the final validation accuracy is 50% or greater, run the model on all the data in the next section."
   ]
  },
  {
   "cell_type": "code",
   "execution_count": 20,
   "metadata": {},
   "outputs": [
    {
     "name": "stdout",
     "output_type": "stream",
     "text": [
      "Checking the Training on a Single Batch...\n",
      "Epoch  1, CIFAR-10 Batch 1:  Cost :2.30305, Accuracy on Training 0.1250 -Validation Accuracy: 0.1126\n",
      "Epoch  2, CIFAR-10 Batch 1:  Cost :2.30937, Accuracy on Training 0.0750 -Validation Accuracy: 0.1292\n",
      "Epoch  3, CIFAR-10 Batch 1:  Cost :2.30414, Accuracy on Training 0.1500 -Validation Accuracy: 0.1528\n",
      "Epoch  4, CIFAR-10 Batch 1:  Cost :2.26523, Accuracy on Training 0.2250 -Validation Accuracy: 0.1722\n",
      "Epoch  5, CIFAR-10 Batch 1:  Cost :2.24498, Accuracy on Training 0.2500 -Validation Accuracy: 0.1832\n",
      "Epoch  6, CIFAR-10 Batch 1:  Cost :2.20631, Accuracy on Training 0.1500 -Validation Accuracy: 0.2284\n",
      "Epoch  7, CIFAR-10 Batch 1:  Cost :2.14527, Accuracy on Training 0.1500 -Validation Accuracy: 0.2166\n",
      "Epoch  8, CIFAR-10 Batch 1:  Cost :2.11012, Accuracy on Training 0.2000 -Validation Accuracy: 0.2336\n",
      "Epoch  9, CIFAR-10 Batch 1:  Cost :2.02742, Accuracy on Training 0.2750 -Validation Accuracy: 0.2486\n",
      "Epoch 10, CIFAR-10 Batch 1:  Cost :1.98435, Accuracy on Training 0.2750 -Validation Accuracy: 0.2712\n",
      "Epoch 11, CIFAR-10 Batch 1:  Cost :1.94374, Accuracy on Training 0.3250 -Validation Accuracy: 0.2726\n",
      "Epoch 12, CIFAR-10 Batch 1:  Cost :1.93238, Accuracy on Training 0.2500 -Validation Accuracy: 0.2914\n",
      "Epoch 13, CIFAR-10 Batch 1:  Cost :1.87611, Accuracy on Training 0.2500 -Validation Accuracy: 0.2944\n",
      "Epoch 14, CIFAR-10 Batch 1:  Cost :1.82964, Accuracy on Training 0.3750 -Validation Accuracy: 0.3178\n",
      "Epoch 15, CIFAR-10 Batch 1:  Cost :1.80402, Accuracy on Training 0.3750 -Validation Accuracy: 0.3140\n",
      "Epoch 16, CIFAR-10 Batch 1:  Cost :1.73710, Accuracy on Training 0.3750 -Validation Accuracy: 0.3416\n",
      "Epoch 17, CIFAR-10 Batch 1:  Cost :1.67400, Accuracy on Training 0.4000 -Validation Accuracy: 0.3506\n",
      "Epoch 18, CIFAR-10 Batch 1:  Cost :1.63955, Accuracy on Training 0.4000 -Validation Accuracy: 0.3388\n",
      "Epoch 19, CIFAR-10 Batch 1:  Cost :1.59597, Accuracy on Training 0.4250 -Validation Accuracy: 0.3766\n",
      "Epoch 20, CIFAR-10 Batch 1:  Cost :1.59287, Accuracy on Training 0.4000 -Validation Accuracy: 0.3556\n",
      "Epoch 21, CIFAR-10 Batch 1:  Cost :1.46706, Accuracy on Training 0.5000 -Validation Accuracy: 0.3810\n",
      "Epoch 22, CIFAR-10 Batch 1:  Cost :1.44187, Accuracy on Training 0.4750 -Validation Accuracy: 0.4036\n",
      "Epoch 23, CIFAR-10 Batch 1:  Cost :1.39361, Accuracy on Training 0.4750 -Validation Accuracy: 0.4110\n",
      "Epoch 24, CIFAR-10 Batch 1:  Cost :1.32760, Accuracy on Training 0.5750 -Validation Accuracy: 0.4218\n",
      "Epoch 25, CIFAR-10 Batch 1:  Cost :1.26647, Accuracy on Training 0.6000 -Validation Accuracy: 0.4340\n",
      "Epoch 26, CIFAR-10 Batch 1:  Cost :1.26562, Accuracy on Training 0.5750 -Validation Accuracy: 0.4386\n",
      "Epoch 27, CIFAR-10 Batch 1:  Cost :1.20101, Accuracy on Training 0.7000 -Validation Accuracy: 0.4464\n",
      "Epoch 28, CIFAR-10 Batch 1:  Cost :1.17108, Accuracy on Training 0.6750 -Validation Accuracy: 0.4484\n",
      "Epoch 29, CIFAR-10 Batch 1:  Cost :1.15273, Accuracy on Training 0.7500 -Validation Accuracy: 0.4530\n",
      "Epoch 30, CIFAR-10 Batch 1:  Cost :1.15244, Accuracy on Training 0.6750 -Validation Accuracy: 0.4670\n",
      "Epoch 31, CIFAR-10 Batch 1:  Cost :1.09354, Accuracy on Training 0.7000 -Validation Accuracy: 0.4630\n",
      "Epoch 32, CIFAR-10 Batch 1:  Cost :1.07302, Accuracy on Training 0.7750 -Validation Accuracy: 0.4762\n",
      "Epoch 33, CIFAR-10 Batch 1:  Cost :1.00340, Accuracy on Training 0.7500 -Validation Accuracy: 0.4824\n",
      "Epoch 34, CIFAR-10 Batch 1:  Cost :0.95417, Accuracy on Training 0.7750 -Validation Accuracy: 0.4876\n",
      "Epoch 35, CIFAR-10 Batch 1:  Cost :0.94232, Accuracy on Training 0.7750 -Validation Accuracy: 0.4944\n",
      "Epoch 36, CIFAR-10 Batch 1:  Cost :0.89312, Accuracy on Training 0.7750 -Validation Accuracy: 0.4882\n",
      "Epoch 37, CIFAR-10 Batch 1:  Cost :0.90587, Accuracy on Training 0.7500 -Validation Accuracy: 0.4872\n",
      "Epoch 38, CIFAR-10 Batch 1:  Cost :0.89488, Accuracy on Training 0.7250 -Validation Accuracy: 0.4874\n",
      "Epoch 39, CIFAR-10 Batch 1:  Cost :0.86830, Accuracy on Training 0.7500 -Validation Accuracy: 0.4780\n",
      "Epoch 40, CIFAR-10 Batch 1:  Cost :0.89660, Accuracy on Training 0.7250 -Validation Accuracy: 0.4822\n",
      "Epoch 41, CIFAR-10 Batch 1:  Cost :0.86535, Accuracy on Training 0.7500 -Validation Accuracy: 0.4882\n",
      "Epoch 42, CIFAR-10 Batch 1:  Cost :0.81823, Accuracy on Training 0.7500 -Validation Accuracy: 0.4882\n",
      "Epoch 43, CIFAR-10 Batch 1:  Cost :0.80214, Accuracy on Training 0.7500 -Validation Accuracy: 0.4776\n",
      "Epoch 44, CIFAR-10 Batch 1:  Cost :0.77725, Accuracy on Training 0.7500 -Validation Accuracy: 0.4896\n",
      "Epoch 45, CIFAR-10 Batch 1:  Cost :0.73131, Accuracy on Training 0.7750 -Validation Accuracy: 0.4970\n",
      "Epoch 46, CIFAR-10 Batch 1:  Cost :0.70375, Accuracy on Training 0.7500 -Validation Accuracy: 0.5070\n",
      "Epoch 47, CIFAR-10 Batch 1:  Cost :0.73767, Accuracy on Training 0.7500 -Validation Accuracy: 0.5196\n",
      "Epoch 48, CIFAR-10 Batch 1:  Cost :0.69552, Accuracy on Training 0.7750 -Validation Accuracy: 0.5068\n",
      "Epoch 49, CIFAR-10 Batch 1:  Cost :0.66234, Accuracy on Training 0.7750 -Validation Accuracy: 0.5140\n",
      "Epoch 50, CIFAR-10 Batch 1:  Cost :0.68120, Accuracy on Training 0.7000 -Validation Accuracy: 0.5136\n"
     ]
    }
   ],
   "source": [
    "print('Checking the Training on a Single Batch...')\n",
    "with tf.Session() as sess:\n",
    "    # Initializing the variables\n",
    "    sess.run(tf.global_variables_initializer())\n",
    "    \n",
    "    # Training cycle\n",
    "    for epoch in range(epochs):\n",
    "        batch_i = 1\n",
    "        for batch_features, batch_labels in load_preprocess_training_batch(batch_i, batch_size):\n",
    "            train_neural_network(sess, optimizer, keep_probability, batch_features, batch_labels)\n",
    "        print('Epoch {:>2}, CIFAR-10 Batch {}:  '.format(epoch + 1, batch_i), end='')\n",
    "        print_stats(sess, batch_features, batch_labels, cost, accuracy)"
   ]
  },
  {
   "cell_type": "markdown",
   "metadata": {},
   "source": [
    "## Fully Train the Model\n",
    "Now that you got a good accuracy with a single CIFAR-10 batch, try it with all five batches."
   ]
  },
  {
   "cell_type": "code",
   "execution_count": 21,
   "metadata": {},
   "outputs": [
    {
     "name": "stdout",
     "output_type": "stream",
     "text": [
      "Training...\n",
      "Epoch  1, CIFAR-10 Batch 1:  Cost :2.30035, Accuracy on Training 0.0750 -Validation Accuracy: 0.1416\n",
      "Epoch  1, CIFAR-10 Batch 2:  Cost :2.20765, Accuracy on Training 0.1250 -Validation Accuracy: 0.1588\n",
      "Epoch  1, CIFAR-10 Batch 3:  Cost :2.05481, Accuracy on Training 0.2750 -Validation Accuracy: 0.1922\n",
      "Epoch  1, CIFAR-10 Batch 4:  Cost :2.06868, Accuracy on Training 0.2000 -Validation Accuracy: 0.2088\n",
      "Epoch  1, CIFAR-10 Batch 5:  Cost :2.08597, Accuracy on Training 0.3250 -Validation Accuracy: 0.2564\n",
      "Epoch  2, CIFAR-10 Batch 1:  Cost :2.17695, Accuracy on Training 0.2250 -Validation Accuracy: 0.2710\n",
      "Epoch  2, CIFAR-10 Batch 2:  Cost :1.85979, Accuracy on Training 0.2750 -Validation Accuracy: 0.2820\n",
      "Epoch  2, CIFAR-10 Batch 3:  Cost :1.74752, Accuracy on Training 0.4500 -Validation Accuracy: 0.3208\n",
      "Epoch  2, CIFAR-10 Batch 4:  Cost :1.80546, Accuracy on Training 0.3250 -Validation Accuracy: 0.3048\n",
      "Epoch  2, CIFAR-10 Batch 5:  Cost :1.77079, Accuracy on Training 0.3750 -Validation Accuracy: 0.3112\n",
      "Epoch  3, CIFAR-10 Batch 1:  Cost :1.97691, Accuracy on Training 0.3250 -Validation Accuracy: 0.3214\n",
      "Epoch  3, CIFAR-10 Batch 2:  Cost :1.77177, Accuracy on Training 0.3000 -Validation Accuracy: 0.3342\n",
      "Epoch  3, CIFAR-10 Batch 3:  Cost :1.52753, Accuracy on Training 0.4000 -Validation Accuracy: 0.3642\n",
      "Epoch  3, CIFAR-10 Batch 4:  Cost :1.67933, Accuracy on Training 0.4000 -Validation Accuracy: 0.3602\n",
      "Epoch  3, CIFAR-10 Batch 5:  Cost :1.60236, Accuracy on Training 0.3750 -Validation Accuracy: 0.3820\n",
      "Epoch  4, CIFAR-10 Batch 1:  Cost :1.81445, Accuracy on Training 0.4250 -Validation Accuracy: 0.3676\n",
      "Epoch  4, CIFAR-10 Batch 2:  Cost :1.67665, Accuracy on Training 0.3250 -Validation Accuracy: 0.3892\n",
      "Epoch  4, CIFAR-10 Batch 3:  Cost :1.40605, Accuracy on Training 0.3750 -Validation Accuracy: 0.3842\n",
      "Epoch  4, CIFAR-10 Batch 4:  Cost :1.53873, Accuracy on Training 0.4500 -Validation Accuracy: 0.3970\n",
      "Epoch  4, CIFAR-10 Batch 5:  Cost :1.51383, Accuracy on Training 0.4500 -Validation Accuracy: 0.4036\n",
      "Epoch  5, CIFAR-10 Batch 1:  Cost :1.68284, Accuracy on Training 0.4250 -Validation Accuracy: 0.4038\n",
      "Epoch  5, CIFAR-10 Batch 2:  Cost :1.56931, Accuracy on Training 0.4250 -Validation Accuracy: 0.4222\n",
      "Epoch  5, CIFAR-10 Batch 3:  Cost :1.27310, Accuracy on Training 0.6250 -Validation Accuracy: 0.4206\n",
      "Epoch  5, CIFAR-10 Batch 4:  Cost :1.48764, Accuracy on Training 0.5000 -Validation Accuracy: 0.4288\n",
      "Epoch  5, CIFAR-10 Batch 5:  Cost :1.43133, Accuracy on Training 0.5250 -Validation Accuracy: 0.4352\n",
      "Epoch  6, CIFAR-10 Batch 1:  Cost :1.66903, Accuracy on Training 0.4750 -Validation Accuracy: 0.4020\n",
      "Epoch  6, CIFAR-10 Batch 2:  Cost :1.52957, Accuracy on Training 0.4250 -Validation Accuracy: 0.4376\n",
      "Epoch  6, CIFAR-10 Batch 3:  Cost :1.22559, Accuracy on Training 0.5250 -Validation Accuracy: 0.4314\n",
      "Epoch  6, CIFAR-10 Batch 4:  Cost :1.43518, Accuracy on Training 0.4500 -Validation Accuracy: 0.4568\n",
      "Epoch  6, CIFAR-10 Batch 5:  Cost :1.39383, Accuracy on Training 0.4500 -Validation Accuracy: 0.4524\n",
      "Epoch  7, CIFAR-10 Batch 1:  Cost :1.50641, Accuracy on Training 0.5250 -Validation Accuracy: 0.4602\n",
      "Epoch  7, CIFAR-10 Batch 2:  Cost :1.40534, Accuracy on Training 0.5250 -Validation Accuracy: 0.4652\n",
      "Epoch  7, CIFAR-10 Batch 3:  Cost :1.14334, Accuracy on Training 0.6000 -Validation Accuracy: 0.4504\n",
      "Epoch  7, CIFAR-10 Batch 4:  Cost :1.33737, Accuracy on Training 0.5250 -Validation Accuracy: 0.4696\n",
      "Epoch  7, CIFAR-10 Batch 5:  Cost :1.29787, Accuracy on Training 0.4500 -Validation Accuracy: 0.4628\n",
      "Epoch  8, CIFAR-10 Batch 1:  Cost :1.40328, Accuracy on Training 0.4500 -Validation Accuracy: 0.4684\n",
      "Epoch  8, CIFAR-10 Batch 2:  Cost :1.27123, Accuracy on Training 0.5250 -Validation Accuracy: 0.4668\n",
      "Epoch  8, CIFAR-10 Batch 3:  Cost :1.13940, Accuracy on Training 0.6000 -Validation Accuracy: 0.4822\n",
      "Epoch  8, CIFAR-10 Batch 4:  Cost :1.29151, Accuracy on Training 0.5500 -Validation Accuracy: 0.5024\n",
      "Epoch  8, CIFAR-10 Batch 5:  Cost :1.19037, Accuracy on Training 0.5250 -Validation Accuracy: 0.4822\n",
      "Epoch  9, CIFAR-10 Batch 1:  Cost :1.29920, Accuracy on Training 0.6000 -Validation Accuracy: 0.5026\n",
      "Epoch  9, CIFAR-10 Batch 2:  Cost :1.21681, Accuracy on Training 0.5000 -Validation Accuracy: 0.4794\n",
      "Epoch  9, CIFAR-10 Batch 3:  Cost :1.07003, Accuracy on Training 0.5750 -Validation Accuracy: 0.4964\n",
      "Epoch  9, CIFAR-10 Batch 4:  Cost :1.23574, Accuracy on Training 0.5500 -Validation Accuracy: 0.5068\n",
      "Epoch  9, CIFAR-10 Batch 5:  Cost :1.11343, Accuracy on Training 0.6000 -Validation Accuracy: 0.4944\n",
      "Epoch 10, CIFAR-10 Batch 1:  Cost :1.22202, Accuracy on Training 0.5250 -Validation Accuracy: 0.5066\n",
      "Epoch 10, CIFAR-10 Batch 2:  Cost :1.15631, Accuracy on Training 0.5750 -Validation Accuracy: 0.5146\n",
      "Epoch 10, CIFAR-10 Batch 3:  Cost :0.97877, Accuracy on Training 0.6000 -Validation Accuracy: 0.5016\n",
      "Epoch 10, CIFAR-10 Batch 4:  Cost :1.16456, Accuracy on Training 0.5750 -Validation Accuracy: 0.5280\n",
      "Epoch 10, CIFAR-10 Batch 5:  Cost :1.11092, Accuracy on Training 0.6250 -Validation Accuracy: 0.5188\n",
      "Epoch 11, CIFAR-10 Batch 1:  Cost :1.16624, Accuracy on Training 0.6000 -Validation Accuracy: 0.5266\n",
      "Epoch 11, CIFAR-10 Batch 2:  Cost :1.08338, Accuracy on Training 0.6250 -Validation Accuracy: 0.5258\n",
      "Epoch 11, CIFAR-10 Batch 3:  Cost :0.96181, Accuracy on Training 0.6250 -Validation Accuracy: 0.5218\n",
      "Epoch 11, CIFAR-10 Batch 4:  Cost :1.05786, Accuracy on Training 0.6250 -Validation Accuracy: 0.5332\n",
      "Epoch 11, CIFAR-10 Batch 5:  Cost :1.01896, Accuracy on Training 0.6250 -Validation Accuracy: 0.5372\n",
      "Epoch 12, CIFAR-10 Batch 1:  Cost :1.07570, Accuracy on Training 0.6250 -Validation Accuracy: 0.5302\n",
      "Epoch 12, CIFAR-10 Batch 2:  Cost :1.04578, Accuracy on Training 0.6250 -Validation Accuracy: 0.5366\n",
      "Epoch 12, CIFAR-10 Batch 3:  Cost :0.91937, Accuracy on Training 0.7500 -Validation Accuracy: 0.5404\n",
      "Epoch 12, CIFAR-10 Batch 4:  Cost :1.04214, Accuracy on Training 0.6750 -Validation Accuracy: 0.5526\n",
      "Epoch 12, CIFAR-10 Batch 5:  Cost :0.98861, Accuracy on Training 0.6750 -Validation Accuracy: 0.5404\n",
      "Epoch 13, CIFAR-10 Batch 1:  Cost :1.02777, Accuracy on Training 0.6750 -Validation Accuracy: 0.5472\n",
      "Epoch 13, CIFAR-10 Batch 2:  Cost :1.00592, Accuracy on Training 0.6250 -Validation Accuracy: 0.5584\n",
      "Epoch 13, CIFAR-10 Batch 3:  Cost :0.89337, Accuracy on Training 0.7250 -Validation Accuracy: 0.5612\n",
      "Epoch 13, CIFAR-10 Batch 4:  Cost :0.99295, Accuracy on Training 0.6750 -Validation Accuracy: 0.5576\n",
      "Epoch 13, CIFAR-10 Batch 5:  Cost :0.94091, Accuracy on Training 0.6000 -Validation Accuracy: 0.5482\n",
      "Epoch 14, CIFAR-10 Batch 1:  Cost :1.00280, Accuracy on Training 0.6000 -Validation Accuracy: 0.5534\n",
      "Epoch 14, CIFAR-10 Batch 2:  Cost :0.94546, Accuracy on Training 0.6500 -Validation Accuracy: 0.5430\n",
      "Epoch 14, CIFAR-10 Batch 3:  Cost :0.85798, Accuracy on Training 0.7500 -Validation Accuracy: 0.5670\n",
      "Epoch 14, CIFAR-10 Batch 4:  Cost :0.90408, Accuracy on Training 0.6750 -Validation Accuracy: 0.5670\n",
      "Epoch 14, CIFAR-10 Batch 5:  Cost :0.93084, Accuracy on Training 0.7000 -Validation Accuracy: 0.5506\n",
      "Epoch 15, CIFAR-10 Batch 1:  Cost :0.98526, Accuracy on Training 0.6000 -Validation Accuracy: 0.5788\n",
      "Epoch 15, CIFAR-10 Batch 2:  Cost :0.85077, Accuracy on Training 0.6750 -Validation Accuracy: 0.5652\n",
      "Epoch 15, CIFAR-10 Batch 3:  Cost :0.84642, Accuracy on Training 0.8000 -Validation Accuracy: 0.5746\n",
      "Epoch 15, CIFAR-10 Batch 4:  Cost :0.86433, Accuracy on Training 0.7000 -Validation Accuracy: 0.5864\n",
      "Epoch 15, CIFAR-10 Batch 5:  Cost :0.84371, Accuracy on Training 0.8000 -Validation Accuracy: 0.5776\n",
      "Epoch 16, CIFAR-10 Batch 1:  Cost :0.93173, Accuracy on Training 0.6750 -Validation Accuracy: 0.5896\n",
      "Epoch 16, CIFAR-10 Batch 2:  Cost :0.82881, Accuracy on Training 0.6500 -Validation Accuracy: 0.5780\n",
      "Epoch 16, CIFAR-10 Batch 3:  Cost :0.83081, Accuracy on Training 0.7750 -Validation Accuracy: 0.5838\n",
      "Epoch 16, CIFAR-10 Batch 4:  Cost :0.83464, Accuracy on Training 0.7500 -Validation Accuracy: 0.5954\n",
      "Epoch 16, CIFAR-10 Batch 5:  Cost :0.85515, Accuracy on Training 0.7500 -Validation Accuracy: 0.5786\n",
      "Epoch 17, CIFAR-10 Batch 1:  Cost :0.89226, Accuracy on Training 0.7500 -Validation Accuracy: 0.5998\n"
     ]
    },
    {
     "name": "stdout",
     "output_type": "stream",
     "text": [
      "Epoch 17, CIFAR-10 Batch 2:  Cost :0.81055, Accuracy on Training 0.7250 -Validation Accuracy: 0.5938\n",
      "Epoch 17, CIFAR-10 Batch 3:  Cost :0.75407, Accuracy on Training 0.8000 -Validation Accuracy: 0.5904\n",
      "Epoch 17, CIFAR-10 Batch 4:  Cost :0.80801, Accuracy on Training 0.7000 -Validation Accuracy: 0.5982\n",
      "Epoch 17, CIFAR-10 Batch 5:  Cost :0.81411, Accuracy on Training 0.7500 -Validation Accuracy: 0.5900\n",
      "Epoch 18, CIFAR-10 Batch 1:  Cost :0.81434, Accuracy on Training 0.7250 -Validation Accuracy: 0.5890\n",
      "Epoch 18, CIFAR-10 Batch 2:  Cost :0.82036, Accuracy on Training 0.7500 -Validation Accuracy: 0.6042\n",
      "Epoch 18, CIFAR-10 Batch 3:  Cost :0.68555, Accuracy on Training 0.8250 -Validation Accuracy: 0.6064\n",
      "Epoch 18, CIFAR-10 Batch 4:  Cost :0.77600, Accuracy on Training 0.7000 -Validation Accuracy: 0.6072\n",
      "Epoch 18, CIFAR-10 Batch 5:  Cost :0.79025, Accuracy on Training 0.8000 -Validation Accuracy: 0.5860\n",
      "Epoch 19, CIFAR-10 Batch 1:  Cost :0.80188, Accuracy on Training 0.7750 -Validation Accuracy: 0.6112\n",
      "Epoch 19, CIFAR-10 Batch 2:  Cost :0.73420, Accuracy on Training 0.7500 -Validation Accuracy: 0.5924\n",
      "Epoch 19, CIFAR-10 Batch 3:  Cost :0.67250, Accuracy on Training 0.8750 -Validation Accuracy: 0.6058\n",
      "Epoch 19, CIFAR-10 Batch 4:  Cost :0.74487, Accuracy on Training 0.8000 -Validation Accuracy: 0.6080\n",
      "Epoch 19, CIFAR-10 Batch 5:  Cost :0.76556, Accuracy on Training 0.8250 -Validation Accuracy: 0.6040\n",
      "Epoch 20, CIFAR-10 Batch 1:  Cost :0.82354, Accuracy on Training 0.7750 -Validation Accuracy: 0.6082\n",
      "Epoch 20, CIFAR-10 Batch 2:  Cost :0.73567, Accuracy on Training 0.7500 -Validation Accuracy: 0.6078\n",
      "Epoch 20, CIFAR-10 Batch 3:  Cost :0.64427, Accuracy on Training 0.8250 -Validation Accuracy: 0.6266\n",
      "Epoch 20, CIFAR-10 Batch 4:  Cost :0.69852, Accuracy on Training 0.7750 -Validation Accuracy: 0.6216\n",
      "Epoch 20, CIFAR-10 Batch 5:  Cost :0.78702, Accuracy on Training 0.7500 -Validation Accuracy: 0.6076\n",
      "Epoch 21, CIFAR-10 Batch 1:  Cost :0.78556, Accuracy on Training 0.7750 -Validation Accuracy: 0.6168\n",
      "Epoch 21, CIFAR-10 Batch 2:  Cost :0.64754, Accuracy on Training 0.7750 -Validation Accuracy: 0.6006\n",
      "Epoch 21, CIFAR-10 Batch 3:  Cost :0.60100, Accuracy on Training 0.8250 -Validation Accuracy: 0.6188\n",
      "Epoch 21, CIFAR-10 Batch 4:  Cost :0.66812, Accuracy on Training 0.8000 -Validation Accuracy: 0.6180\n",
      "Epoch 21, CIFAR-10 Batch 5:  Cost :0.67643, Accuracy on Training 0.8000 -Validation Accuracy: 0.6120\n",
      "Epoch 22, CIFAR-10 Batch 1:  Cost :0.80296, Accuracy on Training 0.7750 -Validation Accuracy: 0.6102\n",
      "Epoch 22, CIFAR-10 Batch 2:  Cost :0.63748, Accuracy on Training 0.8250 -Validation Accuracy: 0.6150\n",
      "Epoch 22, CIFAR-10 Batch 3:  Cost :0.62664, Accuracy on Training 0.8250 -Validation Accuracy: 0.6266\n",
      "Epoch 22, CIFAR-10 Batch 4:  Cost :0.65164, Accuracy on Training 0.7500 -Validation Accuracy: 0.6250\n",
      "Epoch 22, CIFAR-10 Batch 5:  Cost :0.66416, Accuracy on Training 0.8250 -Validation Accuracy: 0.6194\n",
      "Epoch 23, CIFAR-10 Batch 1:  Cost :0.74814, Accuracy on Training 0.7750 -Validation Accuracy: 0.6176\n",
      "Epoch 23, CIFAR-10 Batch 2:  Cost :0.63138, Accuracy on Training 0.7750 -Validation Accuracy: 0.6196\n",
      "Epoch 23, CIFAR-10 Batch 3:  Cost :0.58331, Accuracy on Training 0.9250 -Validation Accuracy: 0.6280\n",
      "Epoch 23, CIFAR-10 Batch 4:  Cost :0.63624, Accuracy on Training 0.8000 -Validation Accuracy: 0.6192\n",
      "Epoch 23, CIFAR-10 Batch 5:  Cost :0.64318, Accuracy on Training 0.8250 -Validation Accuracy: 0.6202\n",
      "Epoch 24, CIFAR-10 Batch 1:  Cost :0.75218, Accuracy on Training 0.7500 -Validation Accuracy: 0.6242\n",
      "Epoch 24, CIFAR-10 Batch 2:  Cost :0.62838, Accuracy on Training 0.8000 -Validation Accuracy: 0.6208\n",
      "Epoch 24, CIFAR-10 Batch 3:  Cost :0.54924, Accuracy on Training 0.9000 -Validation Accuracy: 0.6284\n",
      "Epoch 24, CIFAR-10 Batch 4:  Cost :0.63026, Accuracy on Training 0.8000 -Validation Accuracy: 0.6220\n",
      "Epoch 24, CIFAR-10 Batch 5:  Cost :0.63372, Accuracy on Training 0.8500 -Validation Accuracy: 0.6114\n",
      "Epoch 25, CIFAR-10 Batch 1:  Cost :0.75061, Accuracy on Training 0.7750 -Validation Accuracy: 0.6242\n",
      "Epoch 25, CIFAR-10 Batch 2:  Cost :0.59185, Accuracy on Training 0.8000 -Validation Accuracy: 0.6318\n",
      "Epoch 25, CIFAR-10 Batch 3:  Cost :0.49581, Accuracy on Training 0.9000 -Validation Accuracy: 0.6320\n",
      "Epoch 25, CIFAR-10 Batch 4:  Cost :0.62546, Accuracy on Training 0.8750 -Validation Accuracy: 0.6222\n",
      "Epoch 25, CIFAR-10 Batch 5:  Cost :0.61774, Accuracy on Training 0.8750 -Validation Accuracy: 0.6140\n",
      "Epoch 26, CIFAR-10 Batch 1:  Cost :0.72909, Accuracy on Training 0.7500 -Validation Accuracy: 0.6270\n",
      "Epoch 26, CIFAR-10 Batch 2:  Cost :0.52577, Accuracy on Training 0.8750 -Validation Accuracy: 0.6242\n",
      "Epoch 26, CIFAR-10 Batch 3:  Cost :0.47600, Accuracy on Training 0.9500 -Validation Accuracy: 0.6362\n",
      "Epoch 26, CIFAR-10 Batch 4:  Cost :0.59563, Accuracy on Training 0.8250 -Validation Accuracy: 0.6284\n",
      "Epoch 26, CIFAR-10 Batch 5:  Cost :0.59650, Accuracy on Training 0.8750 -Validation Accuracy: 0.6268\n",
      "Epoch 27, CIFAR-10 Batch 1:  Cost :0.67751, Accuracy on Training 0.7500 -Validation Accuracy: 0.6220\n",
      "Epoch 27, CIFAR-10 Batch 2:  Cost :0.50937, Accuracy on Training 0.8750 -Validation Accuracy: 0.6386\n",
      "Epoch 27, CIFAR-10 Batch 3:  Cost :0.44649, Accuracy on Training 0.9000 -Validation Accuracy: 0.6400\n",
      "Epoch 27, CIFAR-10 Batch 4:  Cost :0.56202, Accuracy on Training 0.8500 -Validation Accuracy: 0.6362\n",
      "Epoch 27, CIFAR-10 Batch 5:  Cost :0.60301, Accuracy on Training 0.9000 -Validation Accuracy: 0.6236\n",
      "Epoch 28, CIFAR-10 Batch 1:  Cost :0.66956, Accuracy on Training 0.7250 -Validation Accuracy: 0.6312\n",
      "Epoch 28, CIFAR-10 Batch 2:  Cost :0.48782, Accuracy on Training 0.8750 -Validation Accuracy: 0.6398\n",
      "Epoch 28, CIFAR-10 Batch 3:  Cost :0.50182, Accuracy on Training 0.9000 -Validation Accuracy: 0.6306\n",
      "Epoch 28, CIFAR-10 Batch 4:  Cost :0.56319, Accuracy on Training 0.8500 -Validation Accuracy: 0.6346\n",
      "Epoch 28, CIFAR-10 Batch 5:  Cost :0.56728, Accuracy on Training 0.9000 -Validation Accuracy: 0.6192\n",
      "Epoch 29, CIFAR-10 Batch 1:  Cost :0.66940, Accuracy on Training 0.7750 -Validation Accuracy: 0.6128\n",
      "Epoch 29, CIFAR-10 Batch 2:  Cost :0.49426, Accuracy on Training 0.9000 -Validation Accuracy: 0.6374\n",
      "Epoch 29, CIFAR-10 Batch 3:  Cost :0.47198, Accuracy on Training 0.9500 -Validation Accuracy: 0.6388\n",
      "Epoch 29, CIFAR-10 Batch 4:  Cost :0.51879, Accuracy on Training 0.9250 -Validation Accuracy: 0.6436\n",
      "Epoch 29, CIFAR-10 Batch 5:  Cost :0.56812, Accuracy on Training 0.8750 -Validation Accuracy: 0.6214\n",
      "Epoch 30, CIFAR-10 Batch 1:  Cost :0.61658, Accuracy on Training 0.7750 -Validation Accuracy: 0.6308\n",
      "Epoch 30, CIFAR-10 Batch 2:  Cost :0.48877, Accuracy on Training 0.8500 -Validation Accuracy: 0.6284\n",
      "Epoch 30, CIFAR-10 Batch 3:  Cost :0.42901, Accuracy on Training 0.9250 -Validation Accuracy: 0.6398\n",
      "Epoch 30, CIFAR-10 Batch 4:  Cost :0.51345, Accuracy on Training 0.8250 -Validation Accuracy: 0.6372\n",
      "Epoch 30, CIFAR-10 Batch 5:  Cost :0.55669, Accuracy on Training 0.9000 -Validation Accuracy: 0.6208\n",
      "Epoch 31, CIFAR-10 Batch 1:  Cost :0.58650, Accuracy on Training 0.7750 -Validation Accuracy: 0.6318\n",
      "Epoch 31, CIFAR-10 Batch 2:  Cost :0.50037, Accuracy on Training 0.8750 -Validation Accuracy: 0.6416\n",
      "Epoch 31, CIFAR-10 Batch 3:  Cost :0.42037, Accuracy on Training 0.9500 -Validation Accuracy: 0.6466\n",
      "Epoch 31, CIFAR-10 Batch 4:  Cost :0.48392, Accuracy on Training 0.8500 -Validation Accuracy: 0.6494\n",
      "Epoch 31, CIFAR-10 Batch 5:  Cost :0.51143, Accuracy on Training 0.9000 -Validation Accuracy: 0.6324\n",
      "Epoch 32, CIFAR-10 Batch 1:  Cost :0.58679, Accuracy on Training 0.7750 -Validation Accuracy: 0.6308\n",
      "Epoch 32, CIFAR-10 Batch 2:  Cost :0.48070, Accuracy on Training 0.8500 -Validation Accuracy: 0.6366\n",
      "Epoch 32, CIFAR-10 Batch 3:  Cost :0.40977, Accuracy on Training 0.9500 -Validation Accuracy: 0.6462\n",
      "Epoch 32, CIFAR-10 Batch 4:  Cost :0.47219, Accuracy on Training 0.8500 -Validation Accuracy: 0.6444\n",
      "Epoch 32, CIFAR-10 Batch 5:  Cost :0.49236, Accuracy on Training 0.9000 -Validation Accuracy: 0.6308\n",
      "Epoch 33, CIFAR-10 Batch 1:  Cost :0.53708, Accuracy on Training 0.8000 -Validation Accuracy: 0.6368\n",
      "Epoch 33, CIFAR-10 Batch 2:  Cost :0.44258, Accuracy on Training 0.9000 -Validation Accuracy: 0.6350\n"
     ]
    },
    {
     "name": "stdout",
     "output_type": "stream",
     "text": [
      "Epoch 33, CIFAR-10 Batch 3:  Cost :0.37725, Accuracy on Training 0.9750 -Validation Accuracy: 0.6496\n",
      "Epoch 33, CIFAR-10 Batch 4:  Cost :0.48445, Accuracy on Training 0.8500 -Validation Accuracy: 0.6484\n",
      "Epoch 33, CIFAR-10 Batch 5:  Cost :0.48549, Accuracy on Training 0.9250 -Validation Accuracy: 0.6342\n",
      "Epoch 34, CIFAR-10 Batch 1:  Cost :0.51938, Accuracy on Training 0.7750 -Validation Accuracy: 0.6464\n",
      "Epoch 34, CIFAR-10 Batch 2:  Cost :0.46053, Accuracy on Training 0.8750 -Validation Accuracy: 0.6466\n",
      "Epoch 34, CIFAR-10 Batch 3:  Cost :0.33501, Accuracy on Training 0.8750 -Validation Accuracy: 0.6460\n",
      "Epoch 34, CIFAR-10 Batch 4:  Cost :0.45263, Accuracy on Training 0.9500 -Validation Accuracy: 0.6514\n",
      "Epoch 34, CIFAR-10 Batch 5:  Cost :0.47196, Accuracy on Training 0.8750 -Validation Accuracy: 0.6396\n",
      "Epoch 35, CIFAR-10 Batch 1:  Cost :0.62900, Accuracy on Training 0.7500 -Validation Accuracy: 0.6304\n",
      "Epoch 35, CIFAR-10 Batch 2:  Cost :0.45915, Accuracy on Training 0.9250 -Validation Accuracy: 0.6390\n",
      "Epoch 35, CIFAR-10 Batch 3:  Cost :0.34094, Accuracy on Training 0.9750 -Validation Accuracy: 0.6488\n",
      "Epoch 35, CIFAR-10 Batch 4:  Cost :0.40947, Accuracy on Training 0.9250 -Validation Accuracy: 0.6440\n",
      "Epoch 35, CIFAR-10 Batch 5:  Cost :0.48897, Accuracy on Training 0.9000 -Validation Accuracy: 0.6398\n",
      "Epoch 36, CIFAR-10 Batch 1:  Cost :0.52345, Accuracy on Training 0.8250 -Validation Accuracy: 0.6470\n",
      "Epoch 36, CIFAR-10 Batch 2:  Cost :0.43496, Accuracy on Training 0.9000 -Validation Accuracy: 0.6450\n",
      "Epoch 36, CIFAR-10 Batch 3:  Cost :0.34163, Accuracy on Training 0.9750 -Validation Accuracy: 0.6588\n",
      "Epoch 36, CIFAR-10 Batch 4:  Cost :0.46121, Accuracy on Training 0.9500 -Validation Accuracy: 0.6516\n",
      "Epoch 36, CIFAR-10 Batch 5:  Cost :0.50233, Accuracy on Training 0.8750 -Validation Accuracy: 0.6450\n",
      "Epoch 37, CIFAR-10 Batch 1:  Cost :0.50419, Accuracy on Training 0.8000 -Validation Accuracy: 0.6480\n",
      "Epoch 37, CIFAR-10 Batch 2:  Cost :0.40472, Accuracy on Training 0.8750 -Validation Accuracy: 0.6382\n",
      "Epoch 37, CIFAR-10 Batch 3:  Cost :0.33130, Accuracy on Training 0.9500 -Validation Accuracy: 0.6466\n",
      "Epoch 37, CIFAR-10 Batch 4:  Cost :0.41938, Accuracy on Training 0.9500 -Validation Accuracy: 0.6538\n",
      "Epoch 37, CIFAR-10 Batch 5:  Cost :0.44622, Accuracy on Training 0.9250 -Validation Accuracy: 0.6354\n",
      "Epoch 38, CIFAR-10 Batch 1:  Cost :0.49830, Accuracy on Training 0.8000 -Validation Accuracy: 0.6424\n",
      "Epoch 38, CIFAR-10 Batch 2:  Cost :0.39484, Accuracy on Training 0.9250 -Validation Accuracy: 0.6560\n",
      "Epoch 38, CIFAR-10 Batch 3:  Cost :0.33891, Accuracy on Training 0.9750 -Validation Accuracy: 0.6536\n",
      "Epoch 38, CIFAR-10 Batch 4:  Cost :0.37695, Accuracy on Training 0.9250 -Validation Accuracy: 0.6514\n",
      "Epoch 38, CIFAR-10 Batch 5:  Cost :0.41292, Accuracy on Training 0.9000 -Validation Accuracy: 0.6400\n",
      "Epoch 39, CIFAR-10 Batch 1:  Cost :0.50803, Accuracy on Training 0.7750 -Validation Accuracy: 0.6432\n",
      "Epoch 39, CIFAR-10 Batch 2:  Cost :0.37982, Accuracy on Training 0.9250 -Validation Accuracy: 0.6334\n",
      "Epoch 39, CIFAR-10 Batch 3:  Cost :0.32599, Accuracy on Training 0.9750 -Validation Accuracy: 0.6504\n",
      "Epoch 39, CIFAR-10 Batch 4:  Cost :0.40764, Accuracy on Training 0.9250 -Validation Accuracy: 0.6572\n",
      "Epoch 39, CIFAR-10 Batch 5:  Cost :0.41963, Accuracy on Training 0.9000 -Validation Accuracy: 0.6344\n",
      "Epoch 40, CIFAR-10 Batch 1:  Cost :0.45922, Accuracy on Training 0.8500 -Validation Accuracy: 0.6488\n",
      "Epoch 40, CIFAR-10 Batch 2:  Cost :0.40428, Accuracy on Training 0.9000 -Validation Accuracy: 0.6450\n",
      "Epoch 40, CIFAR-10 Batch 3:  Cost :0.33503, Accuracy on Training 0.9500 -Validation Accuracy: 0.6486\n",
      "Epoch 40, CIFAR-10 Batch 4:  Cost :0.40435, Accuracy on Training 0.9250 -Validation Accuracy: 0.6600\n",
      "Epoch 40, CIFAR-10 Batch 5:  Cost :0.42522, Accuracy on Training 0.9250 -Validation Accuracy: 0.6436\n",
      "Epoch 41, CIFAR-10 Batch 1:  Cost :0.44991, Accuracy on Training 0.8500 -Validation Accuracy: 0.6436\n",
      "Epoch 41, CIFAR-10 Batch 2:  Cost :0.36913, Accuracy on Training 0.9000 -Validation Accuracy: 0.6528\n",
      "Epoch 41, CIFAR-10 Batch 3:  Cost :0.27781, Accuracy on Training 0.9750 -Validation Accuracy: 0.6598\n",
      "Epoch 41, CIFAR-10 Batch 4:  Cost :0.35273, Accuracy on Training 0.9000 -Validation Accuracy: 0.6592\n",
      "Epoch 41, CIFAR-10 Batch 5:  Cost :0.44719, Accuracy on Training 0.9000 -Validation Accuracy: 0.6430\n",
      "Epoch 42, CIFAR-10 Batch 1:  Cost :0.43256, Accuracy on Training 0.8750 -Validation Accuracy: 0.6500\n",
      "Epoch 42, CIFAR-10 Batch 2:  Cost :0.36611, Accuracy on Training 0.9250 -Validation Accuracy: 0.6542\n",
      "Epoch 42, CIFAR-10 Batch 3:  Cost :0.31728, Accuracy on Training 1.0000 -Validation Accuracy: 0.6552\n",
      "Epoch 42, CIFAR-10 Batch 4:  Cost :0.36534, Accuracy on Training 0.9000 -Validation Accuracy: 0.6552\n",
      "Epoch 42, CIFAR-10 Batch 5:  Cost :0.40112, Accuracy on Training 0.9250 -Validation Accuracy: 0.6422\n",
      "Epoch 43, CIFAR-10 Batch 1:  Cost :0.41611, Accuracy on Training 0.9000 -Validation Accuracy: 0.6468\n",
      "Epoch 43, CIFAR-10 Batch 2:  Cost :0.36556, Accuracy on Training 0.9250 -Validation Accuracy: 0.6590\n",
      "Epoch 43, CIFAR-10 Batch 3:  Cost :0.30010, Accuracy on Training 1.0000 -Validation Accuracy: 0.6592\n",
      "Epoch 43, CIFAR-10 Batch 4:  Cost :0.37933, Accuracy on Training 0.9250 -Validation Accuracy: 0.6604\n",
      "Epoch 43, CIFAR-10 Batch 5:  Cost :0.35542, Accuracy on Training 0.9250 -Validation Accuracy: 0.6460\n",
      "Epoch 44, CIFAR-10 Batch 1:  Cost :0.42066, Accuracy on Training 0.8250 -Validation Accuracy: 0.6454\n",
      "Epoch 44, CIFAR-10 Batch 2:  Cost :0.33590, Accuracy on Training 0.9500 -Validation Accuracy: 0.6548\n",
      "Epoch 44, CIFAR-10 Batch 3:  Cost :0.27213, Accuracy on Training 1.0000 -Validation Accuracy: 0.6632\n",
      "Epoch 44, CIFAR-10 Batch 4:  Cost :0.34210, Accuracy on Training 0.9250 -Validation Accuracy: 0.6560\n",
      "Epoch 44, CIFAR-10 Batch 5:  Cost :0.36113, Accuracy on Training 0.9250 -Validation Accuracy: 0.6446\n",
      "Epoch 45, CIFAR-10 Batch 1:  Cost :0.41435, Accuracy on Training 0.9000 -Validation Accuracy: 0.6512\n",
      "Epoch 45, CIFAR-10 Batch 2:  Cost :0.37984, Accuracy on Training 0.9000 -Validation Accuracy: 0.6566\n",
      "Epoch 45, CIFAR-10 Batch 3:  Cost :0.26809, Accuracy on Training 1.0000 -Validation Accuracy: 0.6640\n",
      "Epoch 45, CIFAR-10 Batch 4:  Cost :0.37357, Accuracy on Training 0.9250 -Validation Accuracy: 0.6670\n",
      "Epoch 45, CIFAR-10 Batch 5:  Cost :0.32917, Accuracy on Training 0.9000 -Validation Accuracy: 0.6472\n",
      "Epoch 46, CIFAR-10 Batch 1:  Cost :0.40365, Accuracy on Training 0.8750 -Validation Accuracy: 0.6532\n",
      "Epoch 46, CIFAR-10 Batch 2:  Cost :0.32492, Accuracy on Training 0.9500 -Validation Accuracy: 0.6532\n",
      "Epoch 46, CIFAR-10 Batch 3:  Cost :0.24352, Accuracy on Training 0.9750 -Validation Accuracy: 0.6590\n",
      "Epoch 46, CIFAR-10 Batch 4:  Cost :0.33912, Accuracy on Training 0.9500 -Validation Accuracy: 0.6598\n",
      "Epoch 46, CIFAR-10 Batch 5:  Cost :0.35159, Accuracy on Training 0.9250 -Validation Accuracy: 0.6560\n",
      "Epoch 47, CIFAR-10 Batch 1:  Cost :0.42981, Accuracy on Training 0.8500 -Validation Accuracy: 0.6470\n",
      "Epoch 47, CIFAR-10 Batch 2:  Cost :0.36607, Accuracy on Training 0.9250 -Validation Accuracy: 0.6488\n",
      "Epoch 47, CIFAR-10 Batch 3:  Cost :0.27861, Accuracy on Training 0.9750 -Validation Accuracy: 0.6508\n",
      "Epoch 47, CIFAR-10 Batch 4:  Cost :0.33319, Accuracy on Training 0.9250 -Validation Accuracy: 0.6596\n",
      "Epoch 47, CIFAR-10 Batch 5:  Cost :0.34531, Accuracy on Training 0.9500 -Validation Accuracy: 0.6484\n",
      "Epoch 48, CIFAR-10 Batch 1:  Cost :0.40345, Accuracy on Training 0.8750 -Validation Accuracy: 0.6572\n",
      "Epoch 48, CIFAR-10 Batch 2:  Cost :0.32593, Accuracy on Training 0.9250 -Validation Accuracy: 0.6550\n",
      "Epoch 48, CIFAR-10 Batch 3:  Cost :0.25892, Accuracy on Training 0.9750 -Validation Accuracy: 0.6616\n",
      "Epoch 48, CIFAR-10 Batch 4:  Cost :0.33099, Accuracy on Training 0.9500 -Validation Accuracy: 0.6664\n",
      "Epoch 48, CIFAR-10 Batch 5:  Cost :0.34598, Accuracy on Training 0.9250 -Validation Accuracy: 0.6366\n",
      "Epoch 49, CIFAR-10 Batch 1:  Cost :0.43199, Accuracy on Training 0.8250 -Validation Accuracy: 0.6552\n",
      "Epoch 49, CIFAR-10 Batch 2:  Cost :0.31774, Accuracy on Training 0.9250 -Validation Accuracy: 0.6624\n",
      "Epoch 49, CIFAR-10 Batch 3:  Cost :0.23331, Accuracy on Training 1.0000 -Validation Accuracy: 0.6588\n"
     ]
    },
    {
     "name": "stdout",
     "output_type": "stream",
     "text": [
      "Epoch 49, CIFAR-10 Batch 4:  Cost :0.32362, Accuracy on Training 0.9250 -Validation Accuracy: 0.6634\n",
      "Epoch 49, CIFAR-10 Batch 5:  Cost :0.34164, Accuracy on Training 0.9250 -Validation Accuracy: 0.6434\n",
      "Epoch 50, CIFAR-10 Batch 1:  Cost :0.42349, Accuracy on Training 0.8750 -Validation Accuracy: 0.6438\n",
      "Epoch 50, CIFAR-10 Batch 2:  Cost :0.35319, Accuracy on Training 0.9250 -Validation Accuracy: 0.6498\n",
      "Epoch 50, CIFAR-10 Batch 3:  Cost :0.25141, Accuracy on Training 1.0000 -Validation Accuracy: 0.6564\n",
      "Epoch 50, CIFAR-10 Batch 4:  Cost :0.29723, Accuracy on Training 0.9250 -Validation Accuracy: 0.6576\n",
      "Epoch 50, CIFAR-10 Batch 5:  Cost :0.34825, Accuracy on Training 0.9250 -Validation Accuracy: 0.6500\n"
     ]
    }
   ],
   "source": [
    "### Train the Model with all batches\n",
    "\n",
    "save_model_path = './image_classification'\n",
    "\n",
    "print('Training...')\n",
    "with tf.Session() as sess:\n",
    "    # Initializing the variables\n",
    "    sess.run(tf.global_variables_initializer())\n",
    "    \n",
    "    # Training cycle\n",
    "    for epoch in range(epochs):\n",
    "        # Loop over all batches\n",
    "        n_batches = 5\n",
    "        for batch_i in range(1, n_batches + 1):\n",
    "            for batch_features, batch_labels in load_preprocess_training_batch(batch_i, batch_size):\n",
    "                train_neural_network(sess, optimizer, keep_probability, batch_features, batch_labels)\n",
    "            print('Epoch {:>2}, CIFAR-10 Batch {}:  '.format(epoch + 1, batch_i), end='')\n",
    "            print_stats(sess, batch_features, batch_labels, cost, accuracy)\n",
    "            \n",
    "    # Save Model\n",
    "    saver = tf.train.Saver()\n",
    "    save_path = saver.save(sess, save_model_path)"
   ]
  },
  {
   "cell_type": "markdown",
   "metadata": {},
   "source": [
    "### Test Model\n",
    "Test your model against the test dataset. This will be your final accuracy. You should have an accuracy greater than 50%. If you don't, keep tweaking the model architecture and parameters."
   ]
  },
  {
   "cell_type": "code",
   "execution_count": 22,
   "metadata": {},
   "outputs": [
    {
     "name": "stdout",
     "output_type": "stream",
     "text": [
      "INFO:tensorflow:Restoring parameters from ./image_classification\n",
      "Testing Accuracy: 0.65263671875\n",
      "\n"
     ]
    },
    {
     "name": "stderr",
     "output_type": "stream",
     "text": [
      "Clipping input data to the valid range for imshow with RGB data ([0..1] for floats or [0..255] for integers).\n",
      "Clipping input data to the valid range for imshow with RGB data ([0..1] for floats or [0..255] for integers).\n",
      "Clipping input data to the valid range for imshow with RGB data ([0..1] for floats or [0..255] for integers).\n",
      "Clipping input data to the valid range for imshow with RGB data ([0..1] for floats or [0..255] for integers).\n"
     ]
    },
    {
     "data": {
      "image/png": "[encoded data removed]",
      "text/plain": [
       "<Figure size 432x288 with 8 Axes>"
      ]
     },
     "metadata": {
      "image/png": {
       "height": 319,
       "width": 355
      },
      "needs_background": "light"
     },
     "output_type": "display_data"
    }
   ],
   "source": [
    "## Testing Model using test dataset\n",
    "%matplotlib inline\n",
    "%config InlineBackend.figure_format = 'retina'\n",
    "\n",
    "import tensorflow as tf\n",
    "import pickle\n",
    "import random\n",
    "\n",
    "# Set batch size if not already set\n",
    "try:\n",
    "    if batch_size:\n",
    "        pass\n",
    "except NameError:\n",
    "    batch_size = 64\n",
    "\n",
    "save_model_path = './image_classification'\n",
    "n_samples = 4\n",
    "top_n_predictions = 5\n",
    "\n",
    "def test_model():\n",
    "    \"\"\"\n",
    "    Test the saved model against the test dataset\n",
    "    \"\"\"\n",
    "\n",
    "    test_features, test_labels = pickle.load(open('preprocess_testing.p', mode='rb'))\n",
    "    loaded_graph = tf.Graph()\n",
    "\n",
    "    with tf.Session(graph=loaded_graph) as sess:\n",
    "        # Load model\n",
    "        loader = tf.train.import_meta_graph(save_model_path + '.meta')\n",
    "        loader.restore(sess, save_model_path)\n",
    "\n",
    "        # Get Tensors from loaded model\n",
    "        loaded_x = loaded_graph.get_tensor_by_name('x:0')\n",
    "        loaded_y = loaded_graph.get_tensor_by_name('y:0')\n",
    "        loaded_keep_prob = loaded_graph.get_tensor_by_name('keep_prob:0')\n",
    "        loaded_logits = loaded_graph.get_tensor_by_name('logits:0')\n",
    "        loaded_acc = loaded_graph.get_tensor_by_name('accuracy:0')\n",
    "        \n",
    "        # Get accuracy in batches for memory limitations\n",
    "        test_batch_acc_total = 0\n",
    "        test_batch_count = 0\n",
    "        \n",
    "        for train_feature_batch, train_label_batch in batch_features_labels(test_features, test_labels, batch_size):\n",
    "            test_batch_acc_total += sess.run(\n",
    "                loaded_acc,\n",
    "                feed_dict={loaded_x: train_feature_batch, loaded_y: train_label_batch, loaded_keep_prob: 1.0})\n",
    "            test_batch_count += 1\n",
    "\n",
    "        print('Testing Accuracy: {}\\n'.format(test_batch_acc_total/test_batch_count))\n",
    "\n",
    "        # Print Random Samples\n",
    "        random_test_features, random_test_labels = tuple(zip(*random.sample(list(zip(test_features, test_labels)), n_samples)))\n",
    "        random_test_predictions = sess.run(\n",
    "            tf.nn.top_k(tf.nn.softmax(loaded_logits), top_n_predictions),\n",
    "            feed_dict={loaded_x: random_test_features, loaded_y: random_test_labels, loaded_keep_prob: 1.0})\n",
    "        display_image_predictions(random_test_features, random_test_labels, random_test_predictions)\n",
    "\n",
    "\n",
    "test_model()"
   ]
  },
  {
   "cell_type": "code",
   "execution_count": null,
   "metadata": {},
   "outputs": [],
   "source": []
  }
 ],
 "metadata": {
  "kernelspec": {
   "display_name": "Python 3",
   "language": "python",
   "name": "python3"
  },
  "language_info": {
   "codemirror_mode": {
    "name": "ipython",
    "version": 3
   },
   "file_extension": ".py",
   "mimetype": "text/x-python",
   "name": "python",
   "nbconvert_exporter": "python",
   "pygments_lexer": "ipython3",
   "version": "3.5.6"
  }
 },
 "nbformat": 4,
 "nbformat_minor": 2
}
